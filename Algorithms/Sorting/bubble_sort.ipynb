{
 "metadata": {
  "language_info": {
   "codemirror_mode": {
    "name": "ipython",
    "version": 3
   },
   "file_extension": ".py",
   "mimetype": "text/x-python",
   "name": "python",
   "nbconvert_exporter": "python",
   "pygments_lexer": "ipython3",
   "version": "3.7.6"
  },
  "orig_nbformat": 2,
  "kernelspec": {
   "name": "python376jvsc74a57bd00600588c3b5f4418cbe7b5ebc6825b479f3bc010269d8b60d75058cdd010adfe",
   "display_name": "Python 3.7.6 64-bit"
  }
 },
 "nbformat": 4,
 "nbformat_minor": 2,
 "cells": [
  {
   "source": [
    "# Bubble sort"
   ],
   "cell_type": "markdown",
   "metadata": {}
  },
  {
   "cell_type": "code",
   "execution_count": 2,
   "metadata": {},
   "outputs": [
    {
     "output_type": "stream",
     "name": "stdout",
     "text": [
      "[1, 2, 3, 4, 11, 22, 45, 102]\n8\n"
     ]
    }
   ],
   "source": [
    "a = [4,3,2,1, 11, 45, 102, 22]\n",
    "\n",
    "numSwaps = 0\n",
    "for i in range(len(a)):\n",
    "    for j in range(len(a)-1):\n",
    "        if a[j] > a[j+1]:\n",
    "\n",
    "            left = a[j]\n",
    "            right  = a[j+1]\n",
    "\n",
    "            a[j] = right\n",
    "            a[j+1] = left\n",
    "\n",
    "            numSwaps += 1\n",
    "        else:\n",
    "            continue\n",
    "\n",
    "print(a)\n",
    "print(numSwaps)"
   ]
  },
  {
   "source": [
    "## Bubble Sorting Alphabets\n",
    "\n",
    "Use the built-in method ord() on alphabets to find the ASCII code of alphabets.  \n",
    "lower case alphabets start from 97 and incriments from there, i.e. a:97, b:98..., z:122  \n",
    "upper case alphabets start from 65 and incriments from there, i.e. A:65, B:66..., Z:90  \n",
    "Use .lower() method to ignore case sensitivity."
   ],
   "cell_type": "markdown",
   "metadata": {}
  },
  {
   "cell_type": "code",
   "execution_count": 5,
   "metadata": {},
   "outputs": [],
   "source": []
  },
  {
   "cell_type": "code",
   "execution_count": 13,
   "metadata": {},
   "outputs": [
    {
     "output_type": "stream",
     "name": "stdout",
     "text": [
      "Unsorted Array: ['j', 'A', 'G', 'u', 'a', 'r']\n\nSorted Array: ['A', 'a', 'G', 'j', 'r', 'u']\nArray sorted in 6 swaps\n"
     ]
    }
   ],
   "source": [
    "# Array to be sorted\n",
    "alpha = ['j', 'A', 'G', 'u', 'a', 'r']\n",
    "print(f\"Unsorted Array: {alpha}\\n\")\n",
    "\n",
    "# number of swaps\n",
    "numSwaps = 0\n",
    "\n",
    "for i in range(len(alpha)):\n",
    "    for j in range(len(alpha)-1):\n",
    "        if ord(alpha[j].lower()) > ord(alpha[j+1].lower()):\n",
    "\n",
    "            left = alpha[j]\n",
    "            right  = alpha[j+1]\n",
    "\n",
    "            alpha[j] = right\n",
    "            alpha[j+1] = left\n",
    "\n",
    "            numSwaps += 1\n",
    "        else:\n",
    "            continue\n",
    "\n",
    "print(f\"Sorted Array: {alpha}\")\n",
    "print(f\"Array sorted in {numSwaps} swaps\")"
   ]
  },
  {
   "cell_type": "code",
   "execution_count": null,
   "metadata": {},
   "outputs": [],
   "source": []
  }
 ]
}